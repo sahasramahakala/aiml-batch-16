{
  "nbformat": 4,
  "nbformat_minor": 0,
  "metadata": {
    "colab": {
      "provenance": [],
      "name": "Rice plant leaf detection.ipynb",
      "authorship_tag": "ABX9TyNmmiuSrfUZ17CD73Oan4mk",
      "include_colab_link": true
    },
    "kernelspec": {
      "name": "python3",
      "display_name": "Python 3"
    },
    "language_info": {
      "name": "python"
    }
  },
  "cells": [
    {
      "cell_type": "markdown",
      "metadata": {
        "id": "view-in-github",
        "colab_type": "text"
      },
      "source": [
        "<a href=\"https://colab.research.google.com/github/sahasramahakala/aiml-batch-16/blob/main/Rice_plant_leaf_detection.ipynb\" target=\"_parent\"><img src=\"https://colab.research.google.com/assets/colab-badge.svg\" alt=\"Open In Colab\"/></a>"
      ]
    },
    {
      "cell_type": "code",
      "source": [
        "from google.colab import drive\n",
        "drive.mount('/content/drive')"
      ],
      "metadata": {
        "colab": {
          "base_uri": "https://localhost:8080/"
        },
        "id": "qMNH8vv2J_f4",
        "outputId": "a6133b0b-481f-4966-a20c-908409d8b33a"
      },
      "execution_count": null,
      "outputs": [
        {
          "output_type": "stream",
          "name": "stdout",
          "text": [
            "Drive already mounted at /content/drive; to attempt to forcibly remount, call drive.mount(\"/content/drive\", force_remount=True).\n"
          ]
        }
      ]
    },
    {
      "cell_type": "code",
      "source": [
        "import os\n",
        "import cv2\n",
        "import numpy as np\n",
        "\n",
        "def load_images_from_folder(folder):\n",
        "    images = []\n",
        "    labels = []\n",
        "    for filename in os.listdir(folder):\n",
        "        label = folder.split('/')[-1]\n",
        "        img_path = os.path.join(folder, filename)\n",
        "        if os.path.isfile(img_path):\n",
        "            image = cv2.imread(img_path)\n",
        "            if image is not None:\n",
        "                images.append(image)\n",
        "                labels.append(label)\n",
        "    return images, labels\n",
        "\n",
        "\n",
        "folder_paths = [\"/content/drive/MyDrive/rice_leaf_diseases/Bacterial_leaf_blight\", \"/content/drive/MyDrive/rice_leaf_diseases/Brown_spot\", \"/content/drive/MyDrive/rice_leaf_diseases/Leaf_smut\"]\n",
        "\n",
        "all_images = []\n",
        "all_labels = []\n",
        "\n",
        "\n",
        "for folder_path in folder_paths:\n",
        "    images, labels = load_images_from_folder(folder_path)\n",
        "    all_images.extend(images)\n",
        "    all_labels.extend(labels)\n",
        "\n",
        "\n",
        "RESIZE_WIDTH = 100\n",
        "RESIZE_HEIGHT = 100\n",
        "resized_images = []\n",
        "for img in all_images:\n",
        "    resized_img = cv2.resize(img, (RESIZE_WIDTH, RESIZE_HEIGHT))\n",
        "    resized_images.append(resized_img)\n",
        "\n",
        "\n",
        "images_np_resized = np.array(resized_images)\n",
        "labels_np = np.array(all_labels)\n",
        "\n"
      ],
      "metadata": {
        "id": "t0GYP7P0xu6L"
      },
      "execution_count": null,
      "outputs": []
    },
    {
      "cell_type": "code",
      "source": [
        "import numpy as np\n",
        "import matplotlib.pyplot as plt\n",
        "import os\n",
        "import cv2\n",
        "from sklearn.model_selection import train_test_split\n",
        "from sklearn.preprocessing import StandardScaler\n",
        "from sklearn.neighbors import KNeighborsClassifier\n",
        "from sklearn.svm import SVC\n",
        "from sklearn.linear_model import LogisticRegression\n",
        "from sklearn.metrics import accuracy_score, classification_report\n",
        "import tensorflow as tf\n",
        "from tensorflow.keras import layers, models\n",
        "\n",
        "X_train, X_test, y_train, y_test = train_test_split(images_np_resized, labels_np, test_size=0.2, random_state=42)\n",
        "\n",
        "X_train_flat = X_train.reshape(X_train.shape[0], -1)\n",
        "X_test_flat = X_test.reshape(X_test.shape[0], -1)\n",
        "\n",
        "\n",
        "scaler = StandardScaler()\n",
        "X_train_scaled = scaler.fit_transform(X_train_flat)\n",
        "X_test_scaled = scaler.transform(X_test_flat)\n",
        "\n",
        "# K-Nearest Neighbors (KNN)\n",
        "knn_classifier = KNeighborsClassifier(n_neighbors=5)\n",
        "knn_classifier.fit(X_train_scaled, y_train)\n",
        "knn_predictions = knn_classifier.predict(X_test_scaled)\n",
        "knn_accuracy = accuracy_score(y_test, knn_predictions)\n",
        "print(\"KNN Accuracy:\", knn_accuracy)\n",
        "print(\"KNN Classification Report:\")\n",
        "print(classification_report(y_test, knn_predictions))\n",
        "\n",
        "# Support Vector Machine (SVM)\n",
        "svm_classifier = SVC(kernel='linear')\n",
        "svm_classifier.fit(X_train_scaled, y_train)\n",
        "svm_predictions = svm_classifier.predict(X_test_scaled)\n",
        "svm_accuracy = accuracy_score(y_test, svm_predictions)\n",
        "print(\"SVM Accuracy:\", svm_accuracy)\n",
        "print(\"SVM Classification Report:\")\n",
        "print(classification_report(y_test, svm_predictions))\n",
        "\n",
        "# Logistic Regression\n",
        "logistic_classifier = LogisticRegression()\n",
        "logistic_classifier.fit(X_train_scaled, y_train)\n",
        "logistic_predictions = logistic_classifier.predict(X_test_scaled)\n",
        "logistic_accuracy = accuracy_score(y_test, logistic_predictions)\n",
        "print(\"Logistic Regression Accuracy:\", logistic_accuracy)\n",
        "print(\"Logistic Regression Classification Report:\")\n",
        "print(classification_report(y_test, logistic_predictions))\n",
        "\n",
        "# Artificial Neural Network (ANN) using TensorFlow/Keras\n",
        "input_shape = X_train.shape[1:]  # Shape of a single image\n",
        "num_classes = len(np.unique(y_train))  # Number of unique classes\n",
        "\n",
        "# Define the model\n",
        "model = models.Sequential([\n",
        "    layers.Flatten(input_shape=input_shape),\n",
        "    layers.Dense(128, activation='relu'),\n",
        "    layers.Dense(num_classes, activation='softmax')\n",
        "])\n",
        "\n",
        "# Compile the model\n",
        "model.compile(optimizer='adam',\n",
        "              loss='sparse_categorical_crossentropy',\n",
        "              metrics=['accuracy'])\n",
        "\n",
        "from sklearn.preprocessing import LabelEncoder\n",
        "\n",
        "# Convert string labels to numerical format\n",
        "label_encoder = LabelEncoder()\n",
        "y_train_encoded = label_encoder.fit_transform(y_train)\n",
        "y_test_encoded = label_encoder.transform(y_test)\n",
        "# Train the model\n",
        "history = model.fit(X_train, y_train_encoded, epochs=10, validation_data=(X_test, y_test_encoded))\n",
        "\n",
        "# Evaluate the model\n",
        "ann_loss, ann_accuracy = model.evaluate(X_test, y_test_encoded)\n",
        "print(\"ANN Accuracy:\", ann_accuracy)\n",
        "\n",
        "# Plot accuracy and loss over training epochs\n",
        "plt.plot(history.history['accuracy'], label='accuracy')\n",
        "plt.plot(history.history['val_accuracy'], label = 'val_accuracy')\n",
        "plt.xlabel('Epoch')\n",
        "plt.ylabel('Accuracy')\n",
        "plt.ylim([0, 1])\n",
        "plt.legend(loc='lower right')\n",
        "plt.show()\n",
        "print(\"KNN Accuracy:\", knn_accuracy)\n",
        "print(\"SVM Accuracy:\", svm_accuracy)\n",
        "print(\"Logistic Regression Accuracy:\", logistic_accuracy)\n",
        "print(\"ANN Accuracy:\", ann_accuracy)"
      ],
      "metadata": {
        "colab": {
          "base_uri": "https://localhost:8080/",
          "height": 1000
        },
        "id": "ANAIqZWXyh2Z",
        "outputId": "dc3f5309-cbf1-44e2-d433-820d2b169de6"
      },
      "execution_count": null,
      "outputs": [
        {
          "output_type": "stream",
          "name": "stdout",
          "text": [
            "KNN Accuracy: 0.4583333333333333\n",
            "KNN Classification Report:\n",
            "                       precision    recall  f1-score   support\n",
            "\n",
            "Bacterial_leaf_blight       0.50      0.38      0.43         8\n",
            "           Brown_spot       0.46      0.60      0.52        10\n",
            "            Leaf_smut       0.40      0.33      0.36         6\n",
            "\n",
            "             accuracy                           0.46        24\n",
            "            macro avg       0.45      0.44      0.44        24\n",
            "         weighted avg       0.46      0.46      0.45        24\n",
            "\n",
            "SVM Accuracy: 0.625\n",
            "SVM Classification Report:\n",
            "                       precision    recall  f1-score   support\n",
            "\n",
            "Bacterial_leaf_blight       0.83      0.62      0.71         8\n",
            "           Brown_spot       0.54      0.70      0.61        10\n",
            "            Leaf_smut       0.60      0.50      0.55         6\n",
            "\n",
            "             accuracy                           0.62        24\n",
            "            macro avg       0.66      0.61      0.62        24\n",
            "         weighted avg       0.65      0.62      0.63        24\n",
            "\n"
          ]
        },
        {
          "output_type": "stream",
          "name": "stderr",
          "text": [
            "/usr/local/lib/python3.10/dist-packages/sklearn/linear_model/_logistic.py:458: ConvergenceWarning: lbfgs failed to converge (status=1):\n",
            "STOP: TOTAL NO. of ITERATIONS REACHED LIMIT.\n",
            "\n",
            "Increase the number of iterations (max_iter) or scale the data as shown in:\n",
            "    https://scikit-learn.org/stable/modules/preprocessing.html\n",
            "Please also refer to the documentation for alternative solver options:\n",
            "    https://scikit-learn.org/stable/modules/linear_model.html#logistic-regression\n",
            "  n_iter_i = _check_optimize_result(\n"
          ]
        },
        {
          "output_type": "stream",
          "name": "stdout",
          "text": [
            "Logistic Regression Accuracy: 0.6666666666666666\n",
            "Logistic Regression Classification Report:\n",
            "                       precision    recall  f1-score   support\n",
            "\n",
            "Bacterial_leaf_blight       1.00      0.62      0.77         8\n",
            "           Brown_spot       0.62      0.80      0.70        10\n",
            "            Leaf_smut       0.50      0.50      0.50         6\n",
            "\n",
            "             accuracy                           0.67        24\n",
            "            macro avg       0.71      0.64      0.65        24\n",
            "         weighted avg       0.71      0.67      0.67        24\n",
            "\n",
            "Epoch 1/10\n",
            "3/3 [==============================] - 1s 168ms/step - loss: 9566.2607 - accuracy: 0.3333 - val_loss: 11928.7334 - val_accuracy: 0.4167\n",
            "Epoch 2/10\n",
            "3/3 [==============================] - 0s 90ms/step - loss: 9532.6123 - accuracy: 0.3125 - val_loss: 10300.6934 - val_accuracy: 0.2500\n",
            "Epoch 3/10\n",
            "3/3 [==============================] - 0s 80ms/step - loss: 6089.4097 - accuracy: 0.3750 - val_loss: 6395.9507 - val_accuracy: 0.3333\n",
            "Epoch 4/10\n",
            "3/3 [==============================] - 0s 81ms/step - loss: 5314.4009 - accuracy: 0.3333 - val_loss: 4849.4873 - val_accuracy: 0.3333\n",
            "Epoch 5/10\n",
            "3/3 [==============================] - 0s 97ms/step - loss: 3109.6213 - accuracy: 0.3333 - val_loss: 890.8928 - val_accuracy: 0.4167\n",
            "Epoch 6/10\n",
            "3/3 [==============================] - 0s 83ms/step - loss: 935.1852 - accuracy: 0.3854 - val_loss: 1373.4980 - val_accuracy: 0.4583\n",
            "Epoch 7/10\n",
            "3/3 [==============================] - 0s 76ms/step - loss: 1344.2461 - accuracy: 0.4792 - val_loss: 1733.8441 - val_accuracy: 0.2917\n",
            "Epoch 8/10\n",
            "3/3 [==============================] - 0s 86ms/step - loss: 1405.5275 - accuracy: 0.4479 - val_loss: 1288.5770 - val_accuracy: 0.4167\n",
            "Epoch 9/10\n",
            "3/3 [==============================] - 0s 77ms/step - loss: 1063.1405 - accuracy: 0.4896 - val_loss: 1032.5907 - val_accuracy: 0.2500\n",
            "Epoch 10/10\n",
            "3/3 [==============================] - 0s 95ms/step - loss: 577.5356 - accuracy: 0.4792 - val_loss: 248.5296 - val_accuracy: 0.4167\n",
            "1/1 [==============================] - 0s 31ms/step - loss: 248.5296 - accuracy: 0.4167\n",
            "ANN Accuracy: 0.4166666567325592\n"
          ]
        },
        {
          "output_type": "display_data",
          "data": {
            "text/plain": [
              "<Figure size 640x480 with 1 Axes>"
            ],
            "image/png": "[encoded data removed]"
          },
          "metadata": {}
        },
        {
          "output_type": "stream",
          "name": "stdout",
          "text": [
            "KNN Accuracy: 0.4583333333333333\n",
            "SVM Accuracy: 0.625\n",
            "Logistic Regression Accuracy: 0.6666666666666666\n",
            "ANN Accuracy: 0.4166666567325592\n"
          ]
        }
      ]
    }
  ]
}